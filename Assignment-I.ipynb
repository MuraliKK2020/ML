{
 "cells": [
  {
   "cell_type": "code",
   "execution_count": 2,
   "metadata": {},
   "outputs": [
    {
     "name": "stdout",
     "output_type": "stream",
     "text": [
      "2002,2009,2016,2023,2037,2044,2051,2058,2072,2079,2086,2093,2107,2114,2121,2128,2142,2149,2156,2163,2177,2184,2191,2198,2212,2219,2226,2233,2247,2254,2261,2268,2282,2289,2296,2303,2317,2324,2331,2338,2352,2359,2366,2373,2387,2394,2401,2408,2422,2429,2436,2443,2457,2464,2471,2478,2492,2499,2506,2513,2527,2534,2541,2548,2562,2569,2576,2583,2597,2604,2611,2618,2632,2639,2646,2653,2667,2674,2681,2688,2702,2709,2716,2723,2737,2744,2751,2758,2772,2779,2786,2793,2807,2814,2821,2828,2842,2849,2856,2863,2877,2884,2891,2898,2912,2919,2926,2933,2947,2954,2961,2968,2982,2989,2996,3003,3017,3024,3031,3038,3052,3059,3066,3073,3087,3094,3101,3108,3122,3129,3136,3143,3157,3164,3171,3178,3192,3199\n"
     ]
    }
   ],
   "source": [
    "result=[]\n",
    "for i in range(2000,3200):\n",
    "    if ((i%7==0) & (i%5!=0)):\n",
    "        result.append(str(i))\n",
    "print(','.join(result))\n",
    "#print(*result,sep=\",\") -- we can also use the \"sep\" to print the object with comma separator"
   ]
  },
  {
   "cell_type": "code",
   "execution_count": 3,
   "metadata": {},
   "outputs": [
    {
     "name": "stdout",
     "output_type": "stream",
     "text": [
      "Enter First Name: abc\n",
      "Enter Last Name : def\n",
      "cba fed\n"
     ]
    }
   ],
   "source": [
    "fname = input('Enter First Name: ')\n",
    "lname = input('Enter Last Name : ')\n",
    "print(fname[::-1] + \" \" + lname[::-1]) # slicing the string\n"
   ]
  },
  {
   "cell_type": "code",
   "execution_count": 4,
   "metadata": {},
   "outputs": [
    {
     "name": "stdout",
     "output_type": "stream",
     "text": [
      "Volume of a Sphere : 904.78\n"
     ]
    }
   ],
   "source": [
    "from math import pi\n",
    "diameter=12\n",
    "vol=(4/3) * pi * ((diameter/2)**3) # since the given input is a diameter, radius will be calculated by dividing it by 2\n",
    "print(\"Volume of a Sphere : \" + \"{:.2f}\".format(vol))"
   ]
  },
  {
   "cell_type": "code",
   "execution_count": 5,
   "metadata": {},
   "outputs": [
    {
     "name": "stdout",
     "output_type": "stream",
     "text": [
      "Enter the comma separated values : 1,2,3,4,5\n",
      "Values in the list ['1', '2', '3', '4', '5']\n",
      "Date type of out_list : <class 'list'>\n"
     ]
    }
   ],
   "source": [
    "inp = input(\"Enter the comma separated values : \")\n",
    "out_list=str(inp).split(',')\n",
    "print(\"Values in the list \" + str(out_list))\n",
    "print(\"Date type of out_list : \" + str(type(out_list)))"
   ]
  },
  {
   "cell_type": "code",
   "execution_count": 6,
   "metadata": {},
   "outputs": [
    {
     "name": "stdout",
     "output_type": "stream",
     "text": [
      "Enter the numbers of (*) to print : 6\n",
      "\n",
      "* \n",
      "* * \n",
      "* * * \n",
      "* * * * \n",
      "* * * * * \n",
      "* * * * * * \n",
      "* * * * * \n",
      "* * * * \n",
      "* * * \n",
      "* * \n",
      "* \n",
      "\n",
      "\n",
      "\n",
      "* \n",
      "* * \n",
      "* * * \n",
      "* * * * \n",
      "* * * * * \n",
      "* * * * * * \n",
      "* * * * * \n",
      "* * * * \n",
      "* * * \n",
      "* * \n",
      "* \n",
      "\n"
     ]
    }
   ],
   "source": [
    "#1 Simplest way to do\n",
    "inp = input(\"Enter the numbers of (*) to print : \")\n",
    "for i in range(int(inp)):\n",
    "    print(\"* \" * i)\n",
    "for j in range(int(inp),0,-1):\n",
    "    print(\"* \" * j)\n",
    "print(\"\\n\\n\")    \n",
    "\n",
    "#2 Nested loop\n",
    "for i in range (0, int(inp)):\n",
    "    for j in range(0, i + 1):\n",
    "        print(\"* \",end=\"\")\n",
    "    print(\"\\r\")\n",
    "    \n",
    "for i in range (int(inp), 0, -1):\n",
    "    for j in range(0, i -1):\n",
    "        print(\"* \",end=\"\")\n",
    "    print(\"\\r\")"
   ]
  },
  {
   "cell_type": "code",
   "execution_count": 7,
   "metadata": {},
   "outputs": [
    {
     "name": "stdout",
     "output_type": "stream",
     "text": [
      "Enter the inp string: Machine Learning\n",
      "gninraeL enihcaM\n"
     ]
    }
   ],
   "source": [
    "inp_str=input(\"Enter the inp string: \")\n",
    "print(inp_str[::-1]) # slicing the data "
   ]
  },
  {
   "cell_type": "code",
   "execution_count": 8,
   "metadata": {},
   "outputs": [
    {
     "name": "stdout",
     "output_type": "stream",
     "text": [
      "WE, THE PEOPLE OF INDIA,\n",
      "\thaving solemnly resolved to constitute India into a SOVEREIGN,!\n",
      "\t\t,SOCIALIST, SECULAR, DEMOCRATIC REPUBLIC\n",
      "\t\t and to secure to all its citizens\n"
     ]
    }
   ],
   "source": [
    "print(\"WE, THE PEOPLE OF INDIA,\\n\\thaving solemnly resolved to constitute India into a SOVEREIGN,!\\n\\t\\t,SOCIALIST, SECULAR, DEMOCRATIC REPUBLIC\\n\\t\\t and to secure to all its citizens\")"
   ]
  },
  {
   "cell_type": "code",
   "execution_count": null,
   "metadata": {},
   "outputs": [],
   "source": []
  }
 ],
 "metadata": {
  "kernelspec": {
   "display_name": "Python 3",
   "language": "python",
   "name": "python3"
  },
  "language_info": {
   "codemirror_mode": {
    "name": "ipython",
    "version": 3
   },
   "file_extension": ".py",
   "mimetype": "text/x-python",
   "name": "python",
   "nbconvert_exporter": "python",
   "pygments_lexer": "ipython3",
   "version": "3.6.4"
  }
 },
 "nbformat": 4,
 "nbformat_minor": 2
}
